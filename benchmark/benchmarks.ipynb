{
 "cells": [
  {
   "cell_type": "code",
   "execution_count": 1,
   "id": "initial_id",
   "metadata": {
    "collapsed": true,
    "ExecuteTime": {
     "end_time": "2024-05-16T23:49:20.166641300Z",
     "start_time": "2024-05-16T23:49:19.258427Z"
    }
   },
   "outputs": [],
   "source": [
    "import os.path\n",
    "\n",
    "from lab3.benchmark.dataset_generator import generate, GeneratorConfig, Functions\n",
    "from lab3.benchmark.transport import get_stub\n",
    "from lab3.benchmark.visualization import plot_model_over_dataset\n",
    "from transport.generated.api_pb2 import TrainRequest, TrainerConfig, ModelConfig\n",
    "from lab3.benchmark.benchmark_result import train_and_test, BenchmarkResult\n"
   ]
  },
  {
   "cell_type": "markdown",
   "source": [
    "### Зависимость от скорости обучения "
   ],
   "metadata": {
    "collapsed": false
   },
   "id": "15fe31b795475e59"
  },
  {
   "cell_type": "code",
   "execution_count": 2,
   "outputs": [
    {
     "name": "stdout",
     "output_type": "stream",
     "text": [
      "--running rate-0.001\n"
     ]
    },
    {
     "ename": "TypeError",
     "evalue": "_UnaryUnaryMultiCallable.__call__() missing 1 required positional argument: 'request'",
     "output_type": "error",
     "traceback": [
      "\u001B[1;31m---------------------------------------------------------------------------\u001B[0m",
      "\u001B[1;31mTypeError\u001B[0m                                 Traceback (most recent call last)",
      "Cell \u001B[1;32mIn[2], line 21\u001B[0m\n\u001B[0;32m     18\u001B[0m \u001B[38;5;28;01mfor\u001B[39;00m i \u001B[38;5;129;01min\u001B[39;00m \u001B[38;5;28mrange\u001B[39m(\u001B[38;5;241m1\u001B[39m, \u001B[38;5;241m10\u001B[39m):\n\u001B[0;32m     19\u001B[0m     fs\u001B[38;5;241m.\u001B[39mappend(experiment(i))\n\u001B[1;32m---> 21\u001B[0m r \u001B[38;5;241m=\u001B[39m \u001B[43mBenchmarkResult\u001B[49m\u001B[38;5;241;43m.\u001B[39;49m\u001B[43mcompare\u001B[49m\u001B[43m(\u001B[49m\u001B[43mfs\u001B[49m\u001B[43m)\u001B[49m\n\u001B[0;32m     22\u001B[0m r\u001B[38;5;241m.\u001B[39mtop(\u001B[38;5;241m*\u001B[39mr\u001B[38;5;241m.\u001B[39mall(), total\u001B[38;5;241m=\u001B[39m\u001B[38;5;28;01mFalse\u001B[39;00m)\n",
      "File \u001B[1;32mD:\\prog\\itmo_ct\\4-sem\\metopt\\lab3\\benchmark\\benchmark_result.py:58\u001B[0m, in \u001B[0;36mBenchmarkResult.compare\u001B[1;34m(cls, runnables)\u001B[0m\n\u001B[0;32m     56\u001B[0m \u001B[38;5;28;01mfor\u001B[39;00m r \u001B[38;5;129;01min\u001B[39;00m runnables:\n\u001B[0;32m     57\u001B[0m     \u001B[38;5;28mprint\u001B[39m(\u001B[38;5;124mf\u001B[39m\u001B[38;5;124m\"\u001B[39m\u001B[38;5;124m--running \u001B[39m\u001B[38;5;132;01m{\u001B[39;00mr\u001B[38;5;241m.\u001B[39m\u001B[38;5;18m__name__\u001B[39m\u001B[38;5;132;01m}\u001B[39;00m\u001B[38;5;124m\"\u001B[39m)\n\u001B[1;32m---> 58\u001B[0m     res\u001B[38;5;241m.\u001B[39mappend(\u001B[43mr\u001B[49m\u001B[43m(\u001B[49m\u001B[43m)\u001B[49m)\n\u001B[0;32m     59\u001B[0m \u001B[38;5;28;01mreturn\u001B[39;00m BenchmarkResult(res)\n",
      "Cell \u001B[1;32mIn[2], line 8\u001B[0m, in \u001B[0;36mexperiment.<locals>.<lambda>\u001B[1;34m()\u001B[0m\n\u001B[0;32m      6\u001B[0m \u001B[38;5;28;01mdef\u001B[39;00m \u001B[38;5;21mexperiment\u001B[39m(idx):\n\u001B[0;32m      7\u001B[0m     rate \u001B[38;5;241m=\u001B[39m \u001B[38;5;241m0.001\u001B[39m \u001B[38;5;241m*\u001B[39m (idx \u001B[38;5;241m*\u001B[39m\u001B[38;5;241m*\u001B[39m \u001B[38;5;241m2\u001B[39m)\n\u001B[1;32m----> 8\u001B[0m     f \u001B[38;5;241m=\u001B[39m \u001B[38;5;28;01mlambda\u001B[39;00m: \u001B[43mtrain_and_test\u001B[49m\u001B[43m(\u001B[49m\u001B[38;5;124;43m\"\u001B[39;49m\u001B[38;5;124;43mTest learning rate\u001B[39;49m\u001B[38;5;124;43m\"\u001B[39;49m\u001B[43m,\u001B[49m\u001B[43m \u001B[49m\u001B[43mtest\u001B[49m\u001B[43m,\u001B[49m\u001B[43m \u001B[49m\u001B[43mTrainRequest\u001B[49m\u001B[43m(\u001B[49m\n\u001B[0;32m      9\u001B[0m \u001B[43m        \u001B[49m\u001B[43mpath\u001B[49m\u001B[38;5;241;43m=\u001B[39;49m\u001B[43mtrain\u001B[49m\u001B[43m,\u001B[49m\n\u001B[0;32m     10\u001B[0m \u001B[43m        \u001B[49m\u001B[43mtrainerConfig\u001B[49m\u001B[38;5;241;43m=\u001B[39;49m\u001B[43mTrainerConfig\u001B[49m\u001B[43m(\u001B[49m\u001B[38;5;28;43mtype\u001B[39;49m\u001B[38;5;241;43m=\u001B[39;49m\u001B[38;5;124;43m\"\u001B[39;49m\u001B[38;5;124;43mGreedyTrainer\u001B[39;49m\u001B[38;5;124;43m\"\u001B[39;49m\u001B[43m,\u001B[49m\u001B[43m \u001B[49m\u001B[43mparams\u001B[49m\u001B[38;5;241;43m=\u001B[39;49m\u001B[43m[\u001B[49m\u001B[38;5;241;43m0.01\u001B[39;49m\u001B[43m,\u001B[49m\u001B[43m \u001B[49m\u001B[38;5;241;43m100000\u001B[39;49m\u001B[43m,\u001B[49m\u001B[43m \u001B[49m\u001B[43mrate\u001B[49m\u001B[43m]\u001B[49m\u001B[43m)\u001B[49m\u001B[43m,\u001B[49m\n\u001B[0;32m     11\u001B[0m \u001B[43m        \u001B[49m\u001B[43mmodelConfig\u001B[49m\u001B[38;5;241;43m=\u001B[39;49m\u001B[43mModelConfig\u001B[49m\u001B[43m(\u001B[49m\u001B[38;5;28;43mtype\u001B[39;49m\u001B[38;5;241;43m=\u001B[39;49m\u001B[38;5;124;43m\"\u001B[39;49m\u001B[38;5;124;43mLinearModel\u001B[39;49m\u001B[38;5;124;43m\"\u001B[39;49m\u001B[43m,\u001B[49m\u001B[43m \u001B[49m\u001B[43mregularizator\u001B[49m\u001B[38;5;241;43m=\u001B[39;49m\u001B[38;5;124;43m\"\u001B[39;49m\u001B[38;5;124;43mEmptyRegularizator\u001B[39;49m\u001B[38;5;124;43m\"\u001B[39;49m\u001B[43m,\u001B[49m\u001B[43m \u001B[49m\u001B[43mloss\u001B[49m\u001B[38;5;241;43m=\u001B[39;49m\u001B[38;5;124;43m\"\u001B[39;49m\u001B[38;5;124;43mMSELoss\u001B[39;49m\u001B[38;5;124;43m\"\u001B[39;49m\u001B[43m)\u001B[49m\u001B[43m,\u001B[49m\n\u001B[0;32m     12\u001B[0m \u001B[43m    \u001B[49m\u001B[43m)\u001B[49m\u001B[43m)\u001B[49m\n\u001B[0;32m     13\u001B[0m     f\u001B[38;5;241m.\u001B[39m\u001B[38;5;18m__name__\u001B[39m \u001B[38;5;241m=\u001B[39m \u001B[38;5;124mf\u001B[39m\u001B[38;5;124m\"\u001B[39m\u001B[38;5;124mrate-\u001B[39m\u001B[38;5;132;01m{\u001B[39;00mrate\u001B[38;5;132;01m}\u001B[39;00m\u001B[38;5;124m\"\u001B[39m\n\u001B[0;32m     14\u001B[0m     \u001B[38;5;28;01mreturn\u001B[39;00m f\n",
      "File \u001B[1;32mD:\\prog\\itmo_ct\\4-sem\\metopt\\lab3\\benchmark\\benchmark_result.py:131\u001B[0m, in \u001B[0;36mtrain_and_test\u001B[1;34m(name, test_dataset_path, trainRequest)\u001B[0m\n\u001B[0;32m    129\u001B[0m s \u001B[38;5;241m=\u001B[39m get_stub()\n\u001B[0;32m    130\u001B[0m train_response: TrainResponse \u001B[38;5;241m=\u001B[39m s\u001B[38;5;241m.\u001B[39mtrain(trainRequest)\n\u001B[1;32m--> 131\u001B[0m \u001B[43ms\u001B[49m\u001B[38;5;241;43m.\u001B[39;49m\u001B[43mpredict\u001B[49m\u001B[43m(\u001B[49m\u001B[43m)\u001B[49m\n\u001B[0;32m    132\u001B[0m df \u001B[38;5;241m=\u001B[39m pd\u001B[38;5;241m.\u001B[39mread_csv(test_dataset_path)\n\u001B[0;32m    133\u001B[0m xs \u001B[38;5;241m=\u001B[39m df\u001B[38;5;241m.\u001B[39mloc[:, df\u001B[38;5;241m.\u001B[39mcolumns[:\u001B[38;5;241m-\u001B[39m\u001B[38;5;241m2\u001B[39m]]\u001B[38;5;241m.\u001B[39mvalues\n",
      "\u001B[1;31mTypeError\u001B[0m: _UnaryUnaryMultiCallable.__call__() missing 1 required positional argument: 'request'"
     ]
    }
   ],
   "source": [
    "name = \"learning_rate_1dim.csv\"\n",
    "_, train, test = generate(name,\n",
    "                          GeneratorConfig(dim=1, rows=200, noize=2, functions=Functions.LINEAR, split=(0.7, 0.3)))\n",
    "\n",
    "\n",
    "def experiment(idx):\n",
    "    rate = 0.001 * (idx ** 2)\n",
    "    f = lambda: train_and_test(\"Test learning rate\", test, TrainRequest(\n",
    "        path=train,\n",
    "        trainerConfig=TrainerConfig(type=\"GreedyTrainer\", params=[0.01, 100000, rate]),\n",
    "        modelConfig=ModelConfig(type=\"LinearModel\", regularizator=\"EmptyRegularizator\", loss=\"MSELoss\"),\n",
    "    ))\n",
    "    f.__name__ = f\"rate-{rate}\"\n",
    "    return f\n",
    "\n",
    "\n",
    "fs = []\n",
    "for i in range(1, 10):\n",
    "    fs.append(experiment(i))\n",
    "\n",
    "r = BenchmarkResult.compare(fs)\n",
    "r.top(*r.all(), total=False)"
   ],
   "metadata": {
    "collapsed": false,
    "ExecuteTime": {
     "end_time": "2024-05-16T23:49:23.486303600Z",
     "start_time": "2024-05-16T23:49:20.165641900Z"
    }
   },
   "id": "f9b75bfa36fd6c94"
  }
 ],
 "metadata": {
  "kernelspec": {
   "display_name": "Python 3",
   "language": "python",
   "name": "python3"
  },
  "language_info": {
   "codemirror_mode": {
    "name": "ipython",
    "version": 2
   },
   "file_extension": ".py",
   "mimetype": "text/x-python",
   "name": "python",
   "nbconvert_exporter": "python",
   "pygments_lexer": "ipython2",
   "version": "2.7.6"
  }
 },
 "nbformat": 4,
 "nbformat_minor": 5
}
